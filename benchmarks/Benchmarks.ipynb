{
 "cells": [
  {
   "cell_type": "code",
   "execution_count": 1,
   "metadata": {},
   "outputs": [],
   "source": [
    "import timeit\n",
    "\n",
    "import numpy as np\n",
    "import pandas as pd\n",
    "import tqdm\n",
    "from matplotlib import pyplot as plt"
   ]
  },
  {
   "cell_type": "code",
   "execution_count": 2,
   "metadata": {},
   "outputs": [],
   "source": [
    "plt.rcParams[\"text.usetex\"] = True\n",
    "plt.rcParams[\"axes.labelsize\"] = 16\n",
    "plt.rcParams[\"font.size\"] = 16\n",
    "plt.rcParams[\"legend.fontsize\"] = \"large\""
   ]
  },
  {
   "cell_type": "code",
   "execution_count": 3,
   "metadata": {},
   "outputs": [
    {
     "name": "stderr",
     "output_type": "stream",
     "text": [
      "/home/vramasub/.local/lib/python3.6/site-packages/quaternion/numba_wrapper.py:29: UserWarning: \n",
      "\n",
      "!!!!!!!!!!!!!!!!!!!!!!!!!!!!!!!!!!!!!!!!!!!!!!!!!!!!!\n",
      "Could not import from either numbapro or numba.\n",
      "This means that the code will run MUCH more slowly.\n",
      "You probably REALLY want to install numba / numbapro.\n",
      "!!!!!!!!!!!!!!!!!!!!!!!!!!!!!!!!!!!!!!!!!!!!!!!!!!!!!\n",
      "\n",
      "  warnings.warn(warning_text)\n"
     ]
    }
   ],
   "source": [
    "import pyquaternion  # pip install pyquaternion --user\n",
    "import quaternion  # pip install numpy_quaternion --user\n",
    "\n",
    "import rowan  # pip install rowan --user"
   ]
  },
  {
   "cell_type": "code",
   "execution_count": 4,
   "metadata": {},
   "outputs": [],
   "source": [
    "def arr_to_pyquat(arr):\n",
    "    if len(arr.shape) > 1:\n",
    "        pq_arr = np.empty(arr.shape[:-1], dtype=\"object\")\n",
    "        for i, x in enumerate(arr):\n",
    "            pq_arr[i] = pyquaternion.Quaternion(x)\n",
    "    else:\n",
    "        pq_arr = np.array([pyquaternion.Quaternion(arr)])\n",
    "    return pq_arr\n",
    "\n",
    "\n",
    "def arr_to_npquat(arr):\n",
    "    return quaternion.as_quat_array(arr)\n",
    "\n",
    "\n",
    "pyquat_times = {}\n",
    "quat_times = {}\n",
    "rowan_times = {}\n",
    "Ns = [10, 100000]\n",
    "num = 10\n",
    "pqlim = 1e8"
   ]
  },
  {
   "cell_type": "code",
   "execution_count": 5,
   "metadata": {},
   "outputs": [
    {
     "data": {
      "application/vnd.jupyter.widget-view+json": {
       "model_id": "3d3e8edfd6e24c81aba9433d6db80981",
       "version_major": 2,
       "version_minor": 0
      },
      "text/plain": [
       "HBox(children=(IntProgress(value=0, max=2), HTML(value='')))"
      ]
     },
     "metadata": {},
     "output_type": "display_data"
    },
    {
     "name": "stdout",
     "output_type": "stream",
     "text": [
      "\n"
     ]
    }
   ],
   "source": [
    "pyquat_times[\"Multiply\"] = []\n",
    "quat_times[\"Multiply\"] = []\n",
    "rowan_times[\"Multiply\"] = []\n",
    "for N in tqdm.tqdm_notebook(Ns):\n",
    "    x = rowan.random.rand(N)\n",
    "    y = rowan.random.rand(N)\n",
    "\n",
    "    if N < pqlim:\n",
    "        pyquat_times[\"Multiply\"].append(\n",
    "            timeit.timeit(\n",
    "                \"x*y\",\n",
    "                setup=\"from __main__ import x, y, arr_to_pyquat; x = arr_to_pyquat(x); y = arr_to_pyquat(y)\",\n",
    "                number=num,\n",
    "            )\n",
    "        )\n",
    "    quat_times[\"Multiply\"].append(\n",
    "        timeit.timeit(\n",
    "            \"x*y\",\n",
    "            setup=\"from __main__ import x, y, arr_to_npquat; x = arr_to_npquat(x); y = arr_to_npquat(y)\",\n",
    "            number=num,\n",
    "        )\n",
    "    )\n",
    "    rowan_times[\"Multiply\"].append(\n",
    "        timeit.timeit(\n",
    "            \"rowan.multiply(x, y)\", setup=\"from __main__ import x, y, rowan\", number=num\n",
    "        )\n",
    "    )"
   ]
  },
  {
   "cell_type": "code",
   "execution_count": 6,
   "metadata": {},
   "outputs": [
    {
     "data": {
      "application/vnd.jupyter.widget-view+json": {
       "model_id": "53a7010cda2044528323b3a42f668b53",
       "version_major": 2,
       "version_minor": 0
      },
      "text/plain": [
       "HBox(children=(IntProgress(value=0, max=2), HTML(value='')))"
      ]
     },
     "metadata": {},
     "output_type": "display_data"
    },
    {
     "name": "stdout",
     "output_type": "stream",
     "text": [
      "\n"
     ]
    }
   ],
   "source": [
    "pyquat_times[\"Exponential\"] = []\n",
    "quat_times[\"Exponential\"] = []\n",
    "rowan_times[\"Exponential\"] = []\n",
    "for N in tqdm.tqdm_notebook(Ns):\n",
    "    x = rowan.random.rand(N)\n",
    "\n",
    "    if N < pqlim:\n",
    "        pyquat_times[\"Exponential\"].append(\n",
    "            timeit.timeit(\n",
    "                \"for i in range(len(x)): pyquaternion.Quaternion.exp(x[i])\",\n",
    "                setup=\"from __main__ import x, pyquaternion, arr_to_pyquat; x = arr_to_pyquat(x);\",\n",
    "                number=num,\n",
    "            )\n",
    "        )\n",
    "    quat_times[\"Exponential\"].append(\n",
    "        timeit.timeit(\n",
    "            \"np.exp(x)\",\n",
    "            setup=\"from __main__ import x, arr_to_npquat, np; x = arr_to_npquat(x);\",\n",
    "            number=num,\n",
    "        )\n",
    "    )\n",
    "    rowan_times[\"Exponential\"].append(\n",
    "        timeit.timeit(\"rowan.exp(x)\", setup=\"from __main__ import x, rowan\", number=num)\n",
    "    )"
   ]
  },
  {
   "cell_type": "code",
   "execution_count": 7,
   "metadata": {},
   "outputs": [
    {
     "data": {
      "application/vnd.jupyter.widget-view+json": {
       "model_id": "ae59eed3fa8945bdb46a916a3842796f",
       "version_major": 2,
       "version_minor": 0
      },
      "text/plain": [
       "HBox(children=(IntProgress(value=0, max=2), HTML(value='')))"
      ]
     },
     "metadata": {},
     "output_type": "display_data"
    },
    {
     "name": "stdout",
     "output_type": "stream",
     "text": [
      "\n"
     ]
    }
   ],
   "source": [
    "pyquat_times[\"Conjugate\"] = []\n",
    "quat_times[\"Conjugate\"] = []\n",
    "rowan_times[\"Conjugate\"] = []\n",
    "for N in tqdm.tqdm_notebook(Ns):\n",
    "    x = rowan.random.rand(N)\n",
    "\n",
    "    if N < pqlim:\n",
    "        pyquat_times[\"Conjugate\"].append(\n",
    "            timeit.timeit(\n",
    "                \"for i in range(len(x)): x.conjugate\",\n",
    "                setup=\"from __main__ import x, arr_to_pyquat; x = arr_to_pyquat(x);\",\n",
    "                number=num,\n",
    "            )\n",
    "        )\n",
    "    quat_times[\"Conjugate\"].append(\n",
    "        timeit.timeit(\n",
    "            \"x.conjugate()\",\n",
    "            setup=\"from __main__ import x, arr_to_npquat; x = arr_to_npquat(x);\",\n",
    "            number=num,\n",
    "        )\n",
    "    )\n",
    "    rowan_times[\"Conjugate\"].append(\n",
    "        timeit.timeit(\n",
    "            \"rowan.conjugate(x)\", setup=\"from __main__ import x, rowan\", number=num\n",
    "        )\n",
    "    )"
   ]
  },
  {
   "cell_type": "code",
   "execution_count": 8,
   "metadata": {},
   "outputs": [
    {
     "data": {
      "application/vnd.jupyter.widget-view+json": {
       "model_id": "a66b0c840831401eaa98cb79267e3141",
       "version_major": 2,
       "version_minor": 0
      },
      "text/plain": [
       "HBox(children=(IntProgress(value=0, max=2), HTML(value='')))"
      ]
     },
     "metadata": {},
     "output_type": "display_data"
    },
    {
     "name": "stdout",
     "output_type": "stream",
     "text": [
      "\n"
     ]
    }
   ],
   "source": [
    "pyquat_times[\"Norm\"] = []\n",
    "quat_times[\"Norm\"] = []\n",
    "rowan_times[\"Norm\"] = []\n",
    "for N in tqdm.tqdm_notebook(Ns):\n",
    "    x = rowan.random.rand(N)\n",
    "\n",
    "    if N < pqlim:\n",
    "        pyquat_times[\"Norm\"].append(\n",
    "            timeit.timeit(\n",
    "                \"for i in range(len(x)): x[i].norm\",\n",
    "                setup=\"from __main__ import x, arr_to_pyquat; x = arr_to_pyquat(x);\",\n",
    "                number=num,\n",
    "            )\n",
    "        )\n",
    "    quat_times[\"Norm\"].append(\n",
    "        timeit.timeit(\n",
    "            \"np.abs(x)\",\n",
    "            setup=\"from __main__ import x, np, arr_to_npquat; x = arr_to_npquat(x);\",\n",
    "            number=num,\n",
    "        )\n",
    "    )\n",
    "    rowan_times[\"Norm\"].append(\n",
    "        timeit.timeit(\n",
    "            \"rowan.norm(x)\", setup=\"from __main__ import x, rowan\", number=num\n",
    "        )\n",
    "    )"
   ]
  },
  {
   "cell_type": "code",
   "execution_count": 9,
   "metadata": {},
   "outputs": [
    {
     "data": {
      "application/vnd.jupyter.widget-view+json": {
       "model_id": "71cbf9ac37d648cc845ec7d197f86283",
       "version_major": 2,
       "version_minor": 0
      },
      "text/plain": [
       "HBox(children=(IntProgress(value=0, max=2), HTML(value='')))"
      ]
     },
     "metadata": {},
     "output_type": "display_data"
    },
    {
     "name": "stdout",
     "output_type": "stream",
     "text": [
      "\n"
     ]
    }
   ],
   "source": [
    "pyquat_times[\"To Matrix\"] = []\n",
    "quat_times[\"To Matrix\"] = []\n",
    "rowan_times[\"To Matrix\"] = []\n",
    "for N in tqdm.tqdm_notebook(Ns):\n",
    "    x = rowan.random.rand(N)\n",
    "\n",
    "    if N < pqlim:\n",
    "        pyquat_times[\"To Matrix\"].append(\n",
    "            timeit.timeit(\n",
    "                \"for i in range(len(x)): x[i].rotation_matrix\",\n",
    "                setup=\"from __main__ import x, arr_to_pyquat; x = arr_to_pyquat(x);\",\n",
    "                number=num,\n",
    "            )\n",
    "        )\n",
    "    quat_times[\"To Matrix\"].append(\n",
    "        timeit.timeit(\n",
    "            \"quaternion.as_rotation_matrix(x)\",\n",
    "            setup=\"from __main__ import x, quaternion, arr_to_npquat; x = arr_to_npquat(x);\",\n",
    "            number=num,\n",
    "        )\n",
    "    )\n",
    "    rowan_times[\"To Matrix\"].append(\n",
    "        timeit.timeit(\n",
    "            \"rowan.to_matrix(x)\", setup=\"from __main__ import x, rowan\", number=num\n",
    "        )\n",
    "    )"
   ]
  },
  {
   "cell_type": "code",
   "execution_count": 10,
   "metadata": {},
   "outputs": [],
   "source": [
    "pyquat_times[\"N\"] = list(np.array(Ns)[np.array(Ns) < pqlim])\n",
    "quat_times[\"N\"] = Ns\n",
    "rowan_times[\"N\"] = Ns"
   ]
  },
  {
   "cell_type": "code",
   "execution_count": 11,
   "metadata": {},
   "outputs": [],
   "source": [
    "df_pq = pd.DataFrame(pyquat_times).melt(\n",
    "    id_vars=\"N\", var_name=\"operation\", value_name=\"pyquaternion\"\n",
    ")\n",
    "df_nq = pd.DataFrame(quat_times).melt(\n",
    "    id_vars=\"N\", var_name=\"operation\", value_name=\"npquaternion\"\n",
    ")\n",
    "df_r = pd.DataFrame(rowan_times).melt(\n",
    "    id_vars=\"N\", var_name=\"operation\", value_name=\"rowan\"\n",
    ")\n",
    "df = df_r.merge(df_nq, on=[\"N\", \"operation\"])\n",
    "df = df.merge(df_pq, on=[\"N\", \"operation\"], how=\"left\")\n",
    "df.fillna(0, inplace=True)\n",
    "df[\"pyquaternion\"] /= df[\"N\"]\n",
    "df[\"pyquaternion\"] *= 1e6\n",
    "df[\"npquaternion\"] /= df[\"N\"]\n",
    "df[\"npquaternion\"] *= 1e6\n",
    "df[\"rowan\"] /= df[\"N\"]\n",
    "df[\"rowan\"] *= 1e6"
   ]
  },
  {
   "cell_type": "code",
   "execution_count": 12,
   "metadata": {},
   "outputs": [
    {
     "data": {
      "text/html": [
       "<div>\n",
       "<style scoped>\n",
       "    .dataframe tbody tr th:only-of-type {\n",
       "        vertical-align: middle;\n",
       "    }\n",
       "\n",
       "    .dataframe tbody tr th {\n",
       "        vertical-align: top;\n",
       "    }\n",
       "\n",
       "    .dataframe thead th {\n",
       "        text-align: right;\n",
       "    }\n",
       "</style>\n",
       "<table border=\"1\" class=\"dataframe\">\n",
       "  <thead>\n",
       "    <tr style=\"text-align: right;\">\n",
       "      <th></th>\n",
       "      <th></th>\n",
       "      <th>rowan</th>\n",
       "      <th>npquaternion</th>\n",
       "      <th>pyquaternion</th>\n",
       "      <th>rowan vs. npq</th>\n",
       "      <th>pyq vs. rowan</th>\n",
       "    </tr>\n",
       "    <tr>\n",
       "      <th>N</th>\n",
       "      <th>operation</th>\n",
       "      <th></th>\n",
       "      <th></th>\n",
       "      <th></th>\n",
       "      <th></th>\n",
       "      <th></th>\n",
       "    </tr>\n",
       "  </thead>\n",
       "  <tbody>\n",
       "    <tr>\n",
       "      <th rowspan=\"5\" valign=\"top\">10</th>\n",
       "      <th>Conjugate</th>\n",
       "      <td>14.219387</td>\n",
       "      <td>1.645903</td>\n",
       "      <td>0.965106</td>\n",
       "      <td>8.639261</td>\n",
       "      <td>0.067873</td>\n",
       "    </tr>\n",
       "    <tr>\n",
       "      <th>Exponential</th>\n",
       "      <td>176.208094</td>\n",
       "      <td>2.648006</td>\n",
       "      <td>491.397409</td>\n",
       "      <td>66.543686</td>\n",
       "      <td>2.788733</td>\n",
       "    </tr>\n",
       "    <tr>\n",
       "      <th>Multiply</th>\n",
       "      <td>127.368094</td>\n",
       "      <td>1.953496</td>\n",
       "      <td>220.462098</td>\n",
       "      <td>65.200091</td>\n",
       "      <td>1.730905</td>\n",
       "    </tr>\n",
       "    <tr>\n",
       "      <th>Norm</th>\n",
       "      <td>15.173992</td>\n",
       "      <td>1.513795</td>\n",
       "      <td>41.527301</td>\n",
       "      <td>10.023809</td>\n",
       "      <td>2.736742</td>\n",
       "    </tr>\n",
       "    <tr>\n",
       "      <th>To Matrix</th>\n",
       "      <td>185.719715</td>\n",
       "      <td>137.050101</td>\n",
       "      <td>239.094393</td>\n",
       "      <td>1.355123</td>\n",
       "      <td>1.287394</td>\n",
       "    </tr>\n",
       "    <tr>\n",
       "      <th rowspan=\"5\" valign=\"top\">100000</th>\n",
       "      <th>Conjugate</th>\n",
       "      <td>0.155787</td>\n",
       "      <td>0.027460</td>\n",
       "      <td>0.522096</td>\n",
       "      <td>5.673227</td>\n",
       "      <td>3.351350</td>\n",
       "    </tr>\n",
       "    <tr>\n",
       "      <th>Exponential</th>\n",
       "      <td>1.423360</td>\n",
       "      <td>0.607103</td>\n",
       "      <td>350.614734</td>\n",
       "      <td>2.344510</td>\n",
       "      <td>246.328931</td>\n",
       "    </tr>\n",
       "    <tr>\n",
       "      <th>Multiply</th>\n",
       "      <td>0.721474</td>\n",
       "      <td>0.060493</td>\n",
       "      <td>160.553924</td>\n",
       "      <td>11.926642</td>\n",
       "      <td>222.536107</td>\n",
       "    </tr>\n",
       "    <tr>\n",
       "      <th>Norm</th>\n",
       "      <td>0.172119</td>\n",
       "      <td>0.030692</td>\n",
       "      <td>12.108950</td>\n",
       "      <td>5.607998</td>\n",
       "      <td>70.352381</td>\n",
       "    </tr>\n",
       "    <tr>\n",
       "      <th>To Matrix</th>\n",
       "      <td>0.869151</td>\n",
       "      <td>0.874250</td>\n",
       "      <td>155.389069</td>\n",
       "      <td>0.994167</td>\n",
       "      <td>178.782588</td>\n",
       "    </tr>\n",
       "  </tbody>\n",
       "</table>\n",
       "</div>"
      ],
      "text/plain": [
       "                         rowan  npquaternion  pyquaternion  rowan vs. npq  \\\n",
       "N      operation                                                            \n",
       "10     Conjugate     14.219387      1.645903      0.965106       8.639261   \n",
       "       Exponential  176.208094      2.648006    491.397409      66.543686   \n",
       "       Multiply     127.368094      1.953496    220.462098      65.200091   \n",
       "       Norm          15.173992      1.513795     41.527301      10.023809   \n",
       "       To Matrix    185.719715    137.050101    239.094393       1.355123   \n",
       "100000 Conjugate      0.155787      0.027460      0.522096       5.673227   \n",
       "       Exponential    1.423360      0.607103    350.614734       2.344510   \n",
       "       Multiply       0.721474      0.060493    160.553924      11.926642   \n",
       "       Norm           0.172119      0.030692     12.108950       5.607998   \n",
       "       To Matrix      0.869151      0.874250    155.389069       0.994167   \n",
       "\n",
       "                    pyq vs. rowan  \n",
       "N      operation                   \n",
       "10     Conjugate         0.067873  \n",
       "       Exponential       2.788733  \n",
       "       Multiply          1.730905  \n",
       "       Norm              2.736742  \n",
       "       To Matrix         1.287394  \n",
       "100000 Conjugate         3.351350  \n",
       "       Exponential     246.328931  \n",
       "       Multiply        222.536107  \n",
       "       Norm             70.352381  \n",
       "       To Matrix       178.782588  "
      ]
     },
     "execution_count": 12,
     "metadata": {},
     "output_type": "execute_result"
    }
   ],
   "source": [
    "view = df.groupby([\"N\", \"operation\"]).mean()\n",
    "view[\"rowan vs. npq\"] = view[\"rowan\"] / view[\"npquaternion\"]\n",
    "view[\"pyq vs. rowan\"] = view[\"pyquaternion\"] / view[\"rowan\"]\n",
    "view"
   ]
  },
  {
   "cell_type": "code",
   "execution_count": 25,
   "metadata": {
    "code_folding": [],
    "scrolled": false
   },
   "outputs": [
    {
     "data": {
      "image/png": "[encoded data removed]",
      "text/plain": [
       "<Figure size 576x1080 with 2 Axes>"
      ]
     },
     "metadata": {},
     "output_type": "display_data"
    }
   ],
   "source": [
    "cols = list(col[\"color\"] for col in plt.rcParams[\"axes.prop_cycle\"])\n",
    "fig, axes = plt.subplots(2, 1, figsize=(8, 15))\n",
    "ax = (\n",
    "    df[df[\"N\"] == Ns[0]]\n",
    "    .drop([\"N\"], axis=1)\n",
    "    .groupby([\"operation\"])\n",
    "    .mean()\n",
    "    .plot.barh(\n",
    "        ax=axes[0],\n",
    "        logx=True,\n",
    "        color=cols[0:3],\n",
    "        title=rf\"$\\log_{{\\,10}}(N) = {int(np.log10(Ns[0]))}$\",\n",
    "        xlim=(10**-2, 10**3),\n",
    "        legend=False,\n",
    "    )\n",
    ")\n",
    "ax = (\n",
    "    df[df[\"N\"] == Ns[1]]\n",
    "    .drop([\"N\"], axis=1)\n",
    "    .groupby([\"operation\"])\n",
    "    .mean()\n",
    "    .plot.barh(\n",
    "        ax=axes[1],\n",
    "        logx=True,\n",
    "        color=cols[0:3],\n",
    "        title=rf\"$\\log_{{\\,10}}(N) = {int(np.log10(Ns[1]))}$\",\n",
    "        xlim=(10**-2, 10**3),\n",
    "        legend=False,\n",
    "    )\n",
    ")\n",
    "ax.set_xlabel(r\"$\\log_{\\,10}(sec)$\", fontsize=18)\n",
    "for ax in axes.flatten():\n",
    "    ax.set_ylabel(\"\")\n",
    "    ax.legend(loc=\"best\", fontsize=15)\n",
    "    ax.title.set_fontsize(20)\n",
    "    # ax.tick_params(axis='both', which='major', labelsize=16)\n",
    "\n",
    "fig.subplots_adjust(left=0.2)\n",
    "plt.show()\n",
    "fig.savefig(\"Performance.pdf\")"
   ]
  }
 ],
 "metadata": {
  "kernelspec": {
   "display_name": "Python 3",
   "language": "python",
   "name": "python3"
  },
  "language_info": {
   "codemirror_mode": {
    "name": "ipython",
    "version": 3
   },
   "file_extension": ".py",
   "mimetype": "text/x-python",
   "name": "python",
   "nbconvert_exporter": "python",
   "pygments_lexer": "ipython3",
   "version": "3.6.5"
  },
  "toc": {
   "nav_menu": {},
   "number_sections": true,
   "sideBar": true,
   "skip_h1_title": false,
   "title_cell": "Table of Contents",
   "title_sidebar": "Contents",
   "toc_cell": false,
   "toc_position": {},
   "toc_section_display": true,
   "toc_window_display": false
  }
 },
 "nbformat": 4,
 "nbformat_minor": 2
}
